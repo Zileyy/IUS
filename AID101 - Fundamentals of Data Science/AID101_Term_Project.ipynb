{
 "cells": [
  {
   "cell_type": "markdown",
   "id": "ad5ee860-70cb-4aca-8c48-af9fbc0a5a02",
   "metadata": {},
   "source": [
    "<h1>AID101_FDS_Term project</h1>\n",
    "<p><strong>Ajnur Bogucanin | IUS | 2024</strong></p>\n",
    "<p>Term project/presentation is one of the grading activities defined in the syllabus \n",
    "for the Course AID101 – FUNDAMENTALS OF DATA SCIENCE in which each student \n",
    "will have to work on a practical case study with a focus on using databases from \n",
    "the real-life. </p>"
   ]
  },
  {
   "cell_type": "markdown",
   "id": "448d4585-9d1d-41a3-9c90-d97e78665f07",
   "metadata": {},
   "source": [
    "<h2>Dataset information</h2>\n",
    "<p><strong>German Car Insights by YAMIN HOSSAIN</strong> on Kaggle. Reason why I chose this dataset is detailed data, but still plenty room for cleaning and showing off skills needed for the task. Dataset is .csv fromat and can be found <a href=\"https://www.kaggle.com/datasets/yaminh/german-car-insights/data\">here</a>.</p>\n",
    "<p>Content of the dataset are listing information for cars in Germany. It is consisted of 15 columns and 100,000 rows untouched.</p>"
   ]
  },
  {
   "cell_type": "markdown",
   "id": "4f9abb4d-f473-4ce4-8411-34efe89731f1",
   "metadata": {
    "jp-MarkdownHeadingCollapsed": true
   },
   "source": [
    "<h2>Dependencies</h2>"
   ]
  },
  {
   "cell_type": "code",
   "execution_count": 1,
   "id": "a5b66233-ad01-42bd-87c0-cddb7644d1de",
   "metadata": {},
   "outputs": [],
   "source": [
    "from sklearn.linear_model import LinearRegression\n",
    "import matplotlib.pyplot as plt\n",
    "import pandas as pd\n",
    "import numpy as np"
   ]
  },
  {
   "cell_type": "markdown",
   "id": "4f04a75e-ac9c-43eb-a27b-aa1340d1500b",
   "metadata": {
    "jp-MarkdownHeadingCollapsed": true
   },
   "source": [
    "<h2>Important variables</h2>"
   ]
  },
  {
   "cell_type": "code",
   "execution_count": 2,
   "id": "9dcbcf6f-ec83-4f61-af8b-ea11a6d19c9a",
   "metadata": {},
   "outputs": [],
   "source": [
    "#List of columns we do not need from the Dataset\n",
    "invalids = ['Unnamed: 0' , 'color' , 'registration_date' , 'offer_description' , 'fuel_consumption_g_km']"
   ]
  },
  {
   "cell_type": "code",
   "execution_count": 3,
   "id": "c85be726-4916-4e62-951f-586e57b965b0",
   "metadata": {},
   "outputs": [],
   "source": [
    "#Invalids dates data\n",
    "invalids_date = [\n",
    "       'Petrol','Diesel', '04/2017', 'Automatic', '113.000 km', '05/2017',\n",
    "       'Hybrid', '3700', 'Electric', '01/2019', '06/2021', '8.000 km', 'Manual',\n",
    "       '02/2020', '04/2006', 'LPG', '07/2021', '32.250 km', '03/2023','12/2003'\n",
    "]"
   ]
  },
  {
   "cell_type": "markdown",
   "id": "c188678d-0d46-42e2-bed0-f1204e2c6c62",
   "metadata": {
    "jp-MarkdownHeadingCollapsed": true
   },
   "source": [
    "<h2>Data Integration</h2>"
   ]
  },
  {
   "cell_type": "code",
   "execution_count": 4,
   "id": "2306306b-be0b-4d3d-8c5d-caf3ffc2693c",
   "metadata": {},
   "outputs": [],
   "source": [
    "df = pd.read_csv('gcar_data.csv')"
   ]
  },
  {
   "cell_type": "markdown",
   "id": "30cce6cd-e9c0-4bae-910a-b86bef72620d",
   "metadata": {
    "jp-MarkdownHeadingCollapsed": true
   },
   "source": [
    "<h2>Data Cleaning</h2>"
   ]
  },
  {
   "cell_type": "code",
   "execution_count": 5,
   "id": "fca026c4-81d5-42a0-8718-8ece56572ffa",
   "metadata": {},
   "outputs": [
    {
     "data": {
      "text/plain": [
       "True"
      ]
     },
     "execution_count": 5,
     "metadata": {},
     "output_type": "execute_result"
    }
   ],
   "source": [
    "df.isnull().any().any()"
   ]
  },
  {
   "cell_type": "code",
   "execution_count": 6,
   "id": "c6c78391-a627-4acd-a9e1-0af7e6f12cf0",
   "metadata": {},
   "outputs": [
    {
     "data": {
      "text/plain": [
       "Unnamed: 0                  100000\n",
       "brand                           29\n",
       "model                          590\n",
       "color                           14\n",
       "registration_date              369\n",
       "year                            49\n",
       "price_in_euro                11652\n",
       "power_kw                       490\n",
       "power_ps                       480\n",
       "transmission_type                4\n",
       "fuel_type                       54\n",
       "fuel_consumption_l_100km       404\n",
       "fuel_consumption_g_km          937\n",
       "mileage_in_km                34479\n",
       "offer_description            79777\n",
       "dtype: int64"
      ]
     },
     "execution_count": 6,
     "metadata": {},
     "output_type": "execute_result"
    }
   ],
   "source": [
    "df.nunique()"
   ]
  },
  {
   "cell_type": "code",
   "execution_count": 7,
   "id": "ccfaa1ca-a821-4b55-a317-360c767989a4",
   "metadata": {},
   "outputs": [
    {
     "data": {
      "text/plain": [
       "Index(['Unnamed: 0', 'brand', 'model', 'color', 'registration_date', 'year',\n",
       "       'price_in_euro', 'power_kw', 'power_ps', 'transmission_type',\n",
       "       'fuel_type', 'fuel_consumption_l_100km', 'fuel_consumption_g_km',\n",
       "       'mileage_in_km', 'offer_description'],\n",
       "      dtype='object')"
      ]
     },
     "execution_count": 7,
     "metadata": {},
     "output_type": "execute_result"
    }
   ],
   "source": [
    "#Check columns\n",
    "df.columns"
   ]
  },
  {
   "cell_type": "code",
   "execution_count": 8,
   "id": "e0a9309c-7178-4214-8346-eec5d017ea73",
   "metadata": {},
   "outputs": [],
   "source": [
    "#Remove unwanted columns\n",
    "df = df.drop(columns=invalids)"
   ]
  },
  {
   "cell_type": "code",
   "execution_count": 9,
   "id": "bf79e1b1-6dcd-4d2e-939e-89e6aff78058",
   "metadata": {},
   "outputs": [
    {
     "data": {
      "text/plain": [
       "Index(['brand', 'model', 'year', 'price_in_euro', 'power_kw', 'power_ps',\n",
       "       'transmission_type', 'fuel_type', 'fuel_consumption_l_100km',\n",
       "       'mileage_in_km'],\n",
       "      dtype='object')"
      ]
     },
     "execution_count": 9,
     "metadata": {},
     "output_type": "execute_result"
    }
   ],
   "source": [
    "df.columns"
   ]
  },
  {
   "cell_type": "code",
   "execution_count": 10,
   "id": "0e15465d-f4c9-4263-add1-1b8b0e777bf6",
   "metadata": {},
   "outputs": [
    {
     "data": {
      "text/plain": [
       "brand                        object\n",
       "model                        object\n",
       "year                         object\n",
       "price_in_euro                object\n",
       "power_kw                     object\n",
       "power_ps                     object\n",
       "transmission_type            object\n",
       "fuel_type                    object\n",
       "fuel_consumption_l_100km     object\n",
       "mileage_in_km               float64\n",
       "dtype: object"
      ]
     },
     "execution_count": 10,
     "metadata": {},
     "output_type": "execute_result"
    }
   ],
   "source": [
    "df.dtypes"
   ]
  },
  {
   "cell_type": "code",
   "execution_count": 11,
   "id": "8e75edb2-aabe-40fe-a2a7-a5fb15a74b92",
   "metadata": {},
   "outputs": [
    {
     "data": {
      "text/plain": [
       "array(['2023', '2018', '2021', '2009', '2019', '2012', '2022', '2016',\n",
       "       '2005', '1999', '2015', '2004', '2020', '2011', '2017', '2010',\n",
       "       '2013', '2014', '2007', '2003', '2008', '2001', '1998', '2002',\n",
       "       '2000', '2006', '1995', '1997', '1996', 'Manual', 'Petrol',\n",
       "       'Diesel', '04/2017', 'Automatic', '113.000 km', '05/2017',\n",
       "       'Hybrid', '3700', 'Electric', '01/2019', '06/2021', '8.000 km',\n",
       "       '02/2020', '04/2006', 'LPG', '07/2021', '32.250 km', '03/2023',\n",
       "       '12/2003'], dtype=object)"
      ]
     },
     "execution_count": 11,
     "metadata": {},
     "output_type": "execute_result"
    }
   ],
   "source": [
    "#Checking for values in col year\n",
    "df['year'].unique()"
   ]
  },
  {
   "cell_type": "code",
   "execution_count": 12,
   "id": "02498a51-de93-4b5e-8791-600bc937ee3e",
   "metadata": {},
   "outputs": [],
   "source": [
    "#Removing invalid data from year column\n",
    "for invalid in invalids_date:\n",
    "    df = df[df['year'] != invalid]"
   ]
  },
  {
   "cell_type": "code",
   "execution_count": 13,
   "id": "10cbad1c-b137-40c9-b9ab-52e753ea375b",
   "metadata": {},
   "outputs": [
    {
     "data": {
      "text/plain": [
       "array(['2023', '2018', '2021', '2009', '2019', '2012', '2022', '2016',\n",
       "       '2005', '1999', '2015', '2004', '2020', '2011', '2017', '2010',\n",
       "       '2013', '2014', '2007', '2003', '2008', '2001', '1998', '2002',\n",
       "       '2000', '2006', '1995', '1997', '1996'], dtype=object)"
      ]
     },
     "execution_count": 13,
     "metadata": {},
     "output_type": "execute_result"
    }
   ],
   "source": [
    "df['year'].unique()"
   ]
  },
  {
   "cell_type": "code",
   "execution_count": 14,
   "id": "34ac8368-442c-4fd4-ace7-21257434f73a",
   "metadata": {},
   "outputs": [],
   "source": [
    "#Preparing fuel consumption column for numerical data type \n",
    "df['fuel_consumption_l_100km'] = df['fuel_consumption_l_100km'].str.replace(' l/100 km','')\n",
    "df['fuel_consumption_l_100km'] = df['fuel_consumption_l_100km'].str.replace(',','.')"
   ]
  },
  {
   "cell_type": "code",
   "execution_count": 15,
   "id": "e17a6f5a-7084-461e-bdc4-45d6ff5024d6",
   "metadata": {},
   "outputs": [
    {
     "data": {
      "text/plain": [
       "array(['5.4', '4.6', nan, '7.5', '5.9', '6.7', '8.9', '5.6', '5', '7.4',\n",
       "       '8.2', '9.4', '3.8', '5.3', '6.9', '7.2', '8.4', '4.7', '6.1',\n",
       "       '6.3', '4.9', '4.8', '4.5', '6.2', '6.6', '9.3', '4.1', '8.3',\n",
       "       '4.4', '9.9', '4.3', '6.4', '7.6', '7.9', '5.8', '2', '12.3',\n",
       "       '5.5', '5.2', '6', '6.8', '5.1', '7.8', '0 kWh/100 km', '3.9',\n",
       "       '12.1', '17.9', '12.7', '10.2', '1.8', '3.5', '8.1', '11.7', '11',\n",
       "       '16.9', '7.7', '6.5', '5.7', '7.1', '7', '4', '1.4', '4.2', '8.7',\n",
       "       '9.5', '10.1', '7.3', '8', '12', '9.6', '8.5', '- (l/100 km)',\n",
       "       '15.8', '12.8', '9', '8.8', '9.7', '14.7', '62 km (Ort)', '1.3',\n",
       "       '10.7', '17.2', '14.6', '11.5', '9.8', '13.6', '10.5', '13.8',\n",
       "       '11.1', '10.3', '1.9', '1.1', '14.3', '13.4', '3.6', '19', '12.5',\n",
       "       '12.2', '21.3', '14.1', '2.1', '10.4', '1.7', '13.3', '14.4',\n",
       "       '3.2', '14', '2.3', '1.2', '10', '11.8', '2.2', '12.6', '1.6',\n",
       "       '1.5', '11.2', '17.1', '8.6', '11.9', '11.4', '15.3', '9.2',\n",
       "       '395 km (Ort)', '17', '18', '19.5', '21.5', '13.7', '14.2', '0.6',\n",
       "       '10.6', '11.6', '2.4', '0', '2.7', '12.6 kWh/100 km', '3.7', '9.1',\n",
       "       '210 km (Ort)', '11.3', '62', '10.9', '4.5 kg/100 km', '3.3',\n",
       "       '71 km (Ort)', '10.8', '12.4', '13', '14.5', '13.1', '13.9', '3.4',\n",
       "       '15.1', '45 km (Ort)', '14.8', '15.7', '13.5', '5.3 kg/100 km',\n",
       "       '19.1 kWh/100 km', '15.5', '8.3 kg/100 km', '18.3', '14.9',\n",
       "       '6.1 kg/100 km', '640 km (Ort)', '20.7', '6 kg/100 km',\n",
       "       '8.4 kg/100 km', '16', '53', '3', '400 km (Ort)', '0.8 kg/100 km',\n",
       "       '15.9', '52 km (Ort)', '13.2', '16.2', '3.1', '57 km (Ort)', '2.9',\n",
       "       '75 km (Ort)', '1', '7.3 kg/100 km', '88', '68 km (Ort)', '66',\n",
       "       '15.2', '739 km (Ort)', '99.9', '604 km (Ort)', '435 km (Ort)',\n",
       "       '15', '18.8', '76 km (Ort)', '19.6', '18.7', '399 km (Ort)',\n",
       "       '16.3', '17.8', '12.9', '305 km (Ort)', '397 km (Ort)',\n",
       "       '486 km (Ort)', '16.6', '18.6', '85.4', '16.5', '20.6', '18.4',\n",
       "       '17.5', '354 km (Ort)', '69 km (Ort)', '141', '55 km (Ort)',\n",
       "       '550 km (Ort)', '4.9 kg/100 km', '425 km (Ort)', '212 kWh/100 km',\n",
       "       '588 km (Ort)', '2.5', '500 km (Ort)', '660 km (Ort)',\n",
       "       '230 km (Ort)', '14.9 kg/100 km', '320 km (Ort)', '15.6',\n",
       "       '56 km (Ort)', '66.4', '19.9', '17.7', '18.1', '4.4 kg/100 km',\n",
       "       '687 km (Ort)', '420 km (Ort)', '59 km (Ort)', '60 km (Ort)',\n",
       "       '66 km (Ort)', '5.9 kg/100 km', '16.4', '165 kWh/100 km',\n",
       "       '15.4 kWh/100 km', '480 km (Ort)', '0.9', '642 km (Ort)',\n",
       "       '424 km (Ort)', '6.3 kg/100 km', '45', '462 km (Ort)', '22',\n",
       "       '16.7', '1.2 kg/100 km', '20.1', '2.6', '7.4 kg/100 km',\n",
       "       '447 km (Ort)', '578 km (Ort)', '17.8 kWh/100 km', '21.8',\n",
       "       '413 km (Ort)', '73', '22.9', '31.4', '0.9 kg/100 km', '0.4',\n",
       "       '658 km (Ort)', '20.6 kWh/100 km', '398 km (Ort)', '279 km (Ort)',\n",
       "       '22 kWh/100 km', '300 km (Ort)', '423 km (Ort)', '21.2',\n",
       "       '6.5 kg/100 km', '106 km (Ort)', '21', '5.2 kg/100 km',\n",
       "       '392 km (Ort)', '4.8 kg/100 km', '20.8', '607 km (Ort)', '4.300',\n",
       "       '506 km (Ort)', '460 km (Ort)', '44 km (Ort)', '54 km (Ort)',\n",
       "       '74 km (Ort)', '646 km (Ort)', '461 km (Ort)', '53 km (Ort)',\n",
       "       '5 kg/100 km', '0.8', '464 km (Ort)', '1 km (Ort)', '1 kg/100 km',\n",
       "       '22.2', '497 km (Ort)', '5.4 kg/100 km', '224 kWh/100 km',\n",
       "       '14.7 kg/100 km', '21.9', '438 km (Ort)', '410 km (Ort)',\n",
       "       '6.4 kg/100 km', '99', '6.8 kg/100 km', '18.2', '5.7 kg/100 km',\n",
       "       '110 km (Ort)', '19.4', '563 km (Ort)', '346 km (Ort)',\n",
       "       '571 km (Ort)', '65', '5.6 kg/100 km', '41', '669 km (Ort)',\n",
       "       '662 km (Ort)', '58 km (Ort)', '14.7 kWh/100 km', '16.8',\n",
       "       '3.9 kg/100 km', '430 km (Ort)', '599 km (Ort)', '18.9',\n",
       "       '594 km (Ort)', '540 km (Ort)', '249 km (Ort)', '403 km (Ort)',\n",
       "       '5.5 kg/100 km', '421 km (Ort)', '350 km (Ort)', '402 km (Ort)',\n",
       "       '567 km (Ort)', '6.2 kg/100 km', '416 km (Ort)', '16.1', '2.8',\n",
       "       '630 km (Ort)', '3.5 kg/100 km', '8.8 kg/100 km', '19.1', '52',\n",
       "       '411 km (Ort)', '363 km (Ort)', '455 km (Ort)', '50 km (Ort)',\n",
       "       '19.3 kWh/100 km', '561 km (Ort)', '678 km (Ort)', '483 km (Ort)',\n",
       "       '3.6 kg/100 km', '4.6 kg/100 km', '600 km (Ort)', '393 km (Ort)',\n",
       "       '119', '9.1 kg/100 km', '13 kWh/100 km', '19.2', '38',\n",
       "       '42 km (Ort)', '60', '257 km (Ort)', '521 km (Ort)',\n",
       "       '510 km (Ort)', '51.8', '564 km (Ort)', '14.3 kWh/100 km',\n",
       "       '407 km (Ort)'], dtype=object)"
      ]
     },
     "execution_count": 15,
     "metadata": {},
     "output_type": "execute_result"
    }
   ],
   "source": [
    "df['fuel_consumption_l_100km'].unique()"
   ]
  },
  {
   "cell_type": "code",
   "execution_count": 16,
   "id": "647577c5-0cfd-4493-ba01-92c06c32f9d8",
   "metadata": {},
   "outputs": [
    {
     "data": {
      "text/plain": [
       "array(['Hybrid', 'Petrol', 'Electric', 'Diesel', 'LPG', 'Diesel Hybrid',\n",
       "       'Other', 'CNG', 'Unknown', 'Hydrogen', 'Ethanol'], dtype=object)"
      ]
     },
     "execution_count": 16,
     "metadata": {},
     "output_type": "execute_result"
    }
   ],
   "source": [
    "df['fuel_type'].unique()"
   ]
  },
  {
   "cell_type": "code",
   "execution_count": 17,
   "id": "cc0b6be8-b9b2-40d1-ab52-18b6ca5153db",
   "metadata": {},
   "outputs": [],
   "source": [
    "#Filtering only petrol and diesel cars\n",
    "df = df[df['fuel_type'].isin(['Diesel', 'Petrol'])]"
   ]
  },
  {
   "cell_type": "code",
   "execution_count": 18,
   "id": "d66c9f88-da0f-4337-912f-1b805b0c40bb",
   "metadata": {},
   "outputs": [],
   "source": [
    "df = df[df['fuel_consumption_l_100km'] != '- (l/100 km)']\n",
    "df = df[df['fuel_consumption_l_100km'].notna()]"
   ]
  },
  {
   "cell_type": "code",
   "execution_count": 19,
   "id": "ac115fe4-2f28-484e-b1b6-520404728b21",
   "metadata": {},
   "outputs": [
    {
     "data": {
      "text/plain": [
       "array(['4.6', '7.5', '5.9', '6.7', '8.9', '5.4', '5.6', '5', '7.4', '8.2',\n",
       "       '9.4', '3.8', '5.3', '6.9', '7.2', '8.4', '4.7', '6.1', '6.3',\n",
       "       '4.9', '4.8', '4.5', '6.2', '6.6', '9.3', '4.1', '8.3', '4.4',\n",
       "       '9.9', '4.3', '7.6', '7.9', '5.8', '6.4', '12.3', '5.5', '5.2',\n",
       "       '6', '6.8', '5.1', '7.8', '3.9', '12.1', '17.9', '12.7', '10.2',\n",
       "       '3.5', '8.1', '11.7', '11', '16.9', '7.7', '6.5', '5.7', '7.1',\n",
       "       '7', '4', '4.2', '8.7', '9.5', '10.1', '7.3', '8', '12', '9.6',\n",
       "       '8.5', '15.8', '12.8', '9', '8.8', '9.7', '10.7', '17.2', '14.6',\n",
       "       '11.5', '9.8', '13.6', '10.5', '13.8', '11.1', '10.3', '14.3',\n",
       "       '13.4', '3.6', '12.5', '12.2', '21.3', '10.4', '13.3', '14.4',\n",
       "       '3.2', '14', '10', '11.8', '12.6', '11.2', '17.1', '8.6', '11.9',\n",
       "       '15.3', '9.2', '17', '18', '19.5', '21.5', '13.7', '14.2', '10.6',\n",
       "       '11.6', '0', '3.7', '9.1', '11.3', '11.4', '62', '10.9', '10.8',\n",
       "       '12.4', '13', '14.5', '13.1', '13.9', '3.4', '15.1', '14.8',\n",
       "       '15.7', '13.5', '14.7', '1.2', '15.5', '18.3', '14.9', '20.7',\n",
       "       '2.1', '3.3', '16', '1.5', '15.9', '13.2', '16.2', '88', '1.8',\n",
       "       '66', '15.2', '99.9', '15', '18.8', '19.6', '18.7', '16.3', '17.8',\n",
       "       '12.9', '1', '16.6', '18.6', '85.4', '16.5', '1.3', '20.6', '14.1',\n",
       "       '18.4', '17.5', '141', '2', '2.4', '2.9', '15.6', '66.4', '19.9',\n",
       "       '18.1', '1.4', '16.4', '45', '3.1', '22', '16.7', '20.1', '1.9',\n",
       "       '21.8', '73', '22.9', '31.4', '0.4', '17.7', '21.2', '3', '21',\n",
       "       '20.8', '4.300', '22.2', '21.9', '99', '0.6', '18.2', '19.4', '65',\n",
       "       '41', '16.8', '18.9', '0.8', '16.1', '19.1', '52', '119', '1.7',\n",
       "       '1.1', '19.2', '38', '60', '51.8'], dtype=object)"
      ]
     },
     "execution_count": 19,
     "metadata": {},
     "output_type": "execute_result"
    }
   ],
   "source": [
    "df['fuel_consumption_l_100km'].unique()"
   ]
  },
  {
   "cell_type": "code",
   "execution_count": 20,
   "id": "b0ce666b-5164-4d2e-94fa-12050dfed228",
   "metadata": {},
   "outputs": [],
   "source": [
    "#Data type conversion\n",
    "df = df.astype({\n",
    "    'year' : int,\n",
    "    'price_in_euro' : float,\n",
    "    'power_kw' : float,\n",
    "    'power_ps' : float,\n",
    "    'fuel_consumption_l_100km' : float\n",
    "})"
   ]
  },
  {
   "cell_type": "code",
   "execution_count": 21,
   "id": "04c24602-10db-4368-89a1-ad0d8f755cd9",
   "metadata": {},
   "outputs": [
    {
     "data": {
      "text/plain": [
       "(83675, 10)"
      ]
     },
     "execution_count": 21,
     "metadata": {},
     "output_type": "execute_result"
    }
   ],
   "source": [
    "df.shape"
   ]
  },
  {
   "cell_type": "code",
   "execution_count": 22,
   "id": "d05ce3f0-b3b9-4c79-b760-9dd02ac5eae8",
   "metadata": {},
   "outputs": [],
   "source": [
    "df = df.dropna()"
   ]
  },
  {
   "cell_type": "code",
   "execution_count": 23,
   "id": "f5c6d422-e4a8-4a37-ab25-67f2d5328274",
   "metadata": {},
   "outputs": [
    {
     "data": {
      "text/plain": [
       "(83627, 10)"
      ]
     },
     "execution_count": 23,
     "metadata": {},
     "output_type": "execute_result"
    }
   ],
   "source": [
    "df.shape"
   ]
  },
  {
   "cell_type": "code",
   "execution_count": 24,
   "id": "40b74e4e-631f-473f-9c85-ea37eec89fa9",
   "metadata": {},
   "outputs": [],
   "source": [
    "df = df.sort_values(by='year' , ascending=True)"
   ]
  },
  {
   "cell_type": "markdown",
   "id": "9b94e511-f7f8-485c-aa51-9e11b9c49841",
   "metadata": {},
   "source": [
    "<h2>Visuals</h2>"
   ]
  },
  {
   "cell_type": "code",
   "execution_count": 25,
   "id": "0b1875b2-46e7-4c74-9346-f4c95f5274c9",
   "metadata": {},
   "outputs": [],
   "source": [
    "average_price_by_brand = df.groupby('brand')['price_in_euro'].mean()"
   ]
  },
  {
   "cell_type": "code",
   "execution_count": 26,
   "id": "46b1f4d9-762d-48bd-bae0-0287b7bb2e3e",
   "metadata": {},
   "outputs": [
    {
     "data": {
      "image/png": "[encoded data removed]",
      "text/plain": [
       "<Figure size 1000x600 with 1 Axes>"
      ]
     },
     "metadata": {},
     "output_type": "display_data"
    }
   ],
   "source": [
    "plt.figure(figsize=(10, 6))\n",
    "average_price_by_brand.plot(kind='bar' , color='skyblue')\n",
    "plt.title('Average Price by Brand')\n",
    "plt.xlabel('Brand')\n",
    "plt.ylabel('Average Price (Euro)')\n",
    "plt.xticks(rotation=70)\n",
    "plt.show()"
   ]
  },
  {
   "cell_type": "code",
   "execution_count": 27,
   "id": "1e153bc7-801d-494b-85dd-706cbd1b5285",
   "metadata": {},
   "outputs": [],
   "source": [
    "avg_fuel_consumption = df.groupby('fuel_type')['fuel_consumption_l_100km'].mean()"
   ]
  },
  {
   "cell_type": "code",
   "execution_count": 28,
   "id": "55f1e70e-ec26-4397-8fc2-6b78f012f6b6",
   "metadata": {},
   "outputs": [
    {
     "data": {
      "image/png": "[encoded data removed]",
      "text/plain": [
       "<Figure size 1000x600 with 1 Axes>"
      ]
     },
     "metadata": {},
     "output_type": "display_data"
    }
   ],
   "source": [
    "plt.figure(figsize=(10, 6))\n",
    "avg_fuel_consumption.plot(kind='bar', color='skyblue', edgecolor='black')\n",
    "plt.title('Diesel vs Petrol fuel consumption')\n",
    "plt.xlabel('Fuel Type')\n",
    "plt.ylabel('Average Fuel Consumption (L/100km)')\n",
    "plt.xticks(rotation=45)\n",
    "plt.grid(axis='y', linestyle='--', alpha=0.7)\n",
    "plt.show()"
   ]
  },
  {
   "cell_type": "code",
   "execution_count": 29,
   "id": "23548e3a-b589-4169-8729-3fd7334cefbf",
   "metadata": {},
   "outputs": [],
   "source": [
    "avg_kw_by_fuel = df.groupby('fuel_type')['power_kw'].mean()"
   ]
  },
  {
   "cell_type": "code",
   "execution_count": 30,
   "id": "feeb9182-5647-43c9-b53d-e287f8c78569",
   "metadata": {},
   "outputs": [
    {
     "data": {
      "image/png": "[encoded data removed]",
      "text/plain": [
       "<Figure size 1000x600 with 1 Axes>"
      ]
     },
     "metadata": {},
     "output_type": "display_data"
    }
   ],
   "source": [
    "plt.figure(figsize=(10, 6))\n",
    "avg_kw_by_fuel.plot(kind='bar', color='orange')\n",
    "plt.title('Diesel vs Petrol Power output')\n",
    "plt.xlabel('Fuel Type')\n",
    "plt.ylabel('Power in KW')\n",
    "plt.xticks(rotation=45)\n",
    "plt.grid(axis='y', linestyle='--', alpha=0.7)\n",
    "plt.show()"
   ]
  },
  {
   "cell_type": "markdown",
   "id": "616760bb-5422-4a5f-ad51-962c73fe7e8a",
   "metadata": {},
   "source": [
    "<h2>Stats</h2>"
   ]
  },
  {
   "cell_type": "code",
   "execution_count": 31,
   "id": "e4e0cff7-e741-43e7-ac65-ae6d8b228836",
   "metadata": {},
   "outputs": [
    {
     "data": {
      "text/html": [
       "<div>\n",
       "<style scoped>\n",
       "    .dataframe tbody tr th:only-of-type {\n",
       "        vertical-align: middle;\n",
       "    }\n",
       "\n",
       "    .dataframe tbody tr th {\n",
       "        vertical-align: top;\n",
       "    }\n",
       "\n",
       "    .dataframe thead th {\n",
       "        text-align: right;\n",
       "    }\n",
       "</style>\n",
       "<table border=\"1\" class=\"dataframe\">\n",
       "  <thead>\n",
       "    <tr style=\"text-align: right;\">\n",
       "      <th></th>\n",
       "      <th>year</th>\n",
       "      <th>price_in_euro</th>\n",
       "      <th>power_kw</th>\n",
       "      <th>power_ps</th>\n",
       "      <th>fuel_consumption_l_100km</th>\n",
       "      <th>mileage_in_km</th>\n",
       "    </tr>\n",
       "  </thead>\n",
       "  <tbody>\n",
       "    <tr>\n",
       "      <th>count</th>\n",
       "      <td>83627.000000</td>\n",
       "      <td>8.362700e+04</td>\n",
       "      <td>83627.000000</td>\n",
       "      <td>83627.000000</td>\n",
       "      <td>83627.000000</td>\n",
       "      <td>8.362700e+04</td>\n",
       "    </tr>\n",
       "    <tr>\n",
       "      <th>mean</th>\n",
       "      <td>2015.989668</td>\n",
       "      <td>2.718229e+04</td>\n",
       "      <td>136.763653</td>\n",
       "      <td>186.028400</td>\n",
       "      <td>6.360671</td>\n",
       "      <td>9.206260e+04</td>\n",
       "    </tr>\n",
       "    <tr>\n",
       "      <th>std</th>\n",
       "      <td>5.174287</td>\n",
       "      <td>4.369807e+04</td>\n",
       "      <td>78.407861</td>\n",
       "      <td>106.584845</td>\n",
       "      <td>2.299909</td>\n",
       "      <td>8.002972e+04</td>\n",
       "    </tr>\n",
       "    <tr>\n",
       "      <th>min</th>\n",
       "      <td>1995.000000</td>\n",
       "      <td>1.500000e+02</td>\n",
       "      <td>14.000000</td>\n",
       "      <td>19.000000</td>\n",
       "      <td>0.000000</td>\n",
       "      <td>0.000000e+00</td>\n",
       "    </tr>\n",
       "    <tr>\n",
       "      <th>25%</th>\n",
       "      <td>2013.000000</td>\n",
       "      <td>1.199000e+04</td>\n",
       "      <td>88.000000</td>\n",
       "      <td>120.000000</td>\n",
       "      <td>5.100000</td>\n",
       "      <td>3.290000e+04</td>\n",
       "    </tr>\n",
       "    <tr>\n",
       "      <th>50%</th>\n",
       "      <td>2017.000000</td>\n",
       "      <td>1.922000e+04</td>\n",
       "      <td>110.000000</td>\n",
       "      <td>150.000000</td>\n",
       "      <td>5.900000</td>\n",
       "      <td>7.604700e+04</td>\n",
       "    </tr>\n",
       "    <tr>\n",
       "      <th>75%</th>\n",
       "      <td>2019.000000</td>\n",
       "      <td>2.998000e+04</td>\n",
       "      <td>150.000000</td>\n",
       "      <td>204.000000</td>\n",
       "      <td>7.000000</td>\n",
       "      <td>1.360000e+05</td>\n",
       "    </tr>\n",
       "    <tr>\n",
       "      <th>max</th>\n",
       "      <td>2023.000000</td>\n",
       "      <td>5.890500e+06</td>\n",
       "      <td>735.000000</td>\n",
       "      <td>999.000000</td>\n",
       "      <td>141.000000</td>\n",
       "      <td>3.800000e+06</td>\n",
       "    </tr>\n",
       "  </tbody>\n",
       "</table>\n",
       "</div>"
      ],
      "text/plain": [
       "               year  price_in_euro      power_kw      power_ps  \\\n",
       "count  83627.000000   8.362700e+04  83627.000000  83627.000000   \n",
       "mean    2015.989668   2.718229e+04    136.763653    186.028400   \n",
       "std        5.174287   4.369807e+04     78.407861    106.584845   \n",
       "min     1995.000000   1.500000e+02     14.000000     19.000000   \n",
       "25%     2013.000000   1.199000e+04     88.000000    120.000000   \n",
       "50%     2017.000000   1.922000e+04    110.000000    150.000000   \n",
       "75%     2019.000000   2.998000e+04    150.000000    204.000000   \n",
       "max     2023.000000   5.890500e+06    735.000000    999.000000   \n",
       "\n",
       "       fuel_consumption_l_100km  mileage_in_km  \n",
       "count              83627.000000   8.362700e+04  \n",
       "mean                   6.360671   9.206260e+04  \n",
       "std                    2.299909   8.002972e+04  \n",
       "min                    0.000000   0.000000e+00  \n",
       "25%                    5.100000   3.290000e+04  \n",
       "50%                    5.900000   7.604700e+04  \n",
       "75%                    7.000000   1.360000e+05  \n",
       "max                  141.000000   3.800000e+06  "
      ]
     },
     "execution_count": 31,
     "metadata": {},
     "output_type": "execute_result"
    }
   ],
   "source": [
    "df.describe()"
   ]
  },
  {
   "cell_type": "markdown",
   "id": "33b446f8-fa03-4a66-9324-8e95675bd9b2",
   "metadata": {},
   "source": [
    "<h2>Linear Regression</h2> <br> <p>Trying to predict a car price based on mileage on a car.</p>"
   ]
  },
  {
   "cell_type": "code",
   "execution_count": 32,
   "id": "d326fbe1-e487-4bb6-be42-47c80084bd56",
   "metadata": {},
   "outputs": [],
   "source": [
    "df = df[df['price_in_euro'] > 1]"
   ]
  },
  {
   "cell_type": "code",
   "execution_count": 33,
   "id": "1c8c97a4-33d6-4646-a1aa-d6c211cd4bb7",
   "metadata": {},
   "outputs": [
    {
     "data": {
      "text/plain": [
       "array([1995, 1996, 1997, 1998, 1999, 2000, 2001, 2002, 2003, 2004, 2005,\n",
       "       2006, 2007, 2008, 2009, 2010, 2011, 2012, 2013, 2014, 2015, 2016,\n",
       "       2017, 2018, 2019, 2020, 2021, 2022, 2023])"
      ]
     },
     "execution_count": 33,
     "metadata": {},
     "output_type": "execute_result"
    }
   ],
   "source": [
    "#Checking unique values of years to see if df is sorted\n",
    "df.year.unique()"
   ]
  },
  {
   "cell_type": "markdown",
   "id": "60073aa7-1565-48b6-a31d-3f2056c9f16a",
   "metadata": {},
   "source": [
    "<p><strong>Model</strong></p>"
   ]
  },
  {
   "cell_type": "code",
   "execution_count": 34,
   "id": "aa34c839-62ed-42a8-ad62-92cd9f46b81c",
   "metadata": {},
   "outputs": [],
   "source": [
    "X = df[['mileage_in_km']]"
   ]
  },
  {
   "cell_type": "code",
   "execution_count": 35,
   "id": "0c02b441-4f30-418d-bed0-4f78c407c406",
   "metadata": {},
   "outputs": [],
   "source": [
    "y = df['price_in_euro'] "
   ]
  },
  {
   "cell_type": "code",
   "execution_count": 36,
   "id": "e3580d07-0606-4982-bbf3-ff0a97a8954a",
   "metadata": {},
   "outputs": [],
   "source": [
    "model = LinearRegression()"
   ]
  },
  {
   "cell_type": "code",
   "execution_count": 37,
   "id": "bd383433-ddb6-48c1-b318-d27ced225e05",
   "metadata": {},
   "outputs": [
    {
     "data": {
      "text/html": [
       "<style>#sk-container-id-1 {\n",
       "  /* Definition of color scheme common for light and dark mode */\n",
       "  --sklearn-color-text: black;\n",
       "  --sklearn-color-line: gray;\n",
       "  /* Definition of color scheme for unfitted estimators */\n",
       "  --sklearn-color-unfitted-level-0: #fff5e6;\n",
       "  --sklearn-color-unfitted-level-1: #f6e4d2;\n",
       "  --sklearn-color-unfitted-level-2: #ffe0b3;\n",
       "  --sklearn-color-unfitted-level-3: chocolate;\n",
       "  /* Definition of color scheme for fitted estimators */\n",
       "  --sklearn-color-fitted-level-0: #f0f8ff;\n",
       "  --sklearn-color-fitted-level-1: #d4ebff;\n",
       "  --sklearn-color-fitted-level-2: #b3dbfd;\n",
       "  --sklearn-color-fitted-level-3: cornflowerblue;\n",
       "\n",
       "  /* Specific color for light theme */\n",
       "  --sklearn-color-text-on-default-background: var(--sg-text-color, var(--theme-code-foreground, var(--jp-content-font-color1, black)));\n",
       "  --sklearn-color-background: var(--sg-background-color, var(--theme-background, var(--jp-layout-color0, white)));\n",
       "  --sklearn-color-border-box: var(--sg-text-color, var(--theme-code-foreground, var(--jp-content-font-color1, black)));\n",
       "  --sklearn-color-icon: #696969;\n",
       "\n",
       "  @media (prefers-color-scheme: dark) {\n",
       "    /* Redefinition of color scheme for dark theme */\n",
       "    --sklearn-color-text-on-default-background: var(--sg-text-color, var(--theme-code-foreground, var(--jp-content-font-color1, white)));\n",
       "    --sklearn-color-background: var(--sg-background-color, var(--theme-background, var(--jp-layout-color0, #111)));\n",
       "    --sklearn-color-border-box: var(--sg-text-color, var(--theme-code-foreground, var(--jp-content-font-color1, white)));\n",
       "    --sklearn-color-icon: #878787;\n",
       "  }\n",
       "}\n",
       "\n",
       "#sk-container-id-1 {\n",
       "  color: var(--sklearn-color-text);\n",
       "}\n",
       "\n",
       "#sk-container-id-1 pre {\n",
       "  padding: 0;\n",
       "}\n",
       "\n",
       "#sk-container-id-1 input.sk-hidden--visually {\n",
       "  border: 0;\n",
       "  clip: rect(1px 1px 1px 1px);\n",
       "  clip: rect(1px, 1px, 1px, 1px);\n",
       "  height: 1px;\n",
       "  margin: -1px;\n",
       "  overflow: hidden;\n",
       "  padding: 0;\n",
       "  position: absolute;\n",
       "  width: 1px;\n",
       "}\n",
       "\n",
       "#sk-container-id-1 div.sk-dashed-wrapped {\n",
       "  border: 1px dashed var(--sklearn-color-line);\n",
       "  margin: 0 0.4em 0.5em 0.4em;\n",
       "  box-sizing: border-box;\n",
       "  padding-bottom: 0.4em;\n",
       "  background-color: var(--sklearn-color-background);\n",
       "}\n",
       "\n",
       "#sk-container-id-1 div.sk-container {\n",
       "  /* jupyter's `normalize.less` sets `[hidden] { display: none; }`\n",
       "     but bootstrap.min.css set `[hidden] { display: none !important; }`\n",
       "     so we also need the `!important` here to be able to override the\n",
       "     default hidden behavior on the sphinx rendered scikit-learn.org.\n",
       "     See: https://github.com/scikit-learn/scikit-learn/issues/21755 */\n",
       "  display: inline-block !important;\n",
       "  position: relative;\n",
       "}\n",
       "\n",
       "#sk-container-id-1 div.sk-text-repr-fallback {\n",
       "  display: none;\n",
       "}\n",
       "\n",
       "div.sk-parallel-item,\n",
       "div.sk-serial,\n",
       "div.sk-item {\n",
       "  /* draw centered vertical line to link estimators */\n",
       "  background-image: linear-gradient(var(--sklearn-color-text-on-default-background), var(--sklearn-color-text-on-default-background));\n",
       "  background-size: 2px 100%;\n",
       "  background-repeat: no-repeat;\n",
       "  background-position: center center;\n",
       "}\n",
       "\n",
       "/* Parallel-specific style estimator block */\n",
       "\n",
       "#sk-container-id-1 div.sk-parallel-item::after {\n",
       "  content: \"\";\n",
       "  width: 100%;\n",
       "  border-bottom: 2px solid var(--sklearn-color-text-on-default-background);\n",
       "  flex-grow: 1;\n",
       "}\n",
       "\n",
       "#sk-container-id-1 div.sk-parallel {\n",
       "  display: flex;\n",
       "  align-items: stretch;\n",
       "  justify-content: center;\n",
       "  background-color: var(--sklearn-color-background);\n",
       "  position: relative;\n",
       "}\n",
       "\n",
       "#sk-container-id-1 div.sk-parallel-item {\n",
       "  display: flex;\n",
       "  flex-direction: column;\n",
       "}\n",
       "\n",
       "#sk-container-id-1 div.sk-parallel-item:first-child::after {\n",
       "  align-self: flex-end;\n",
       "  width: 50%;\n",
       "}\n",
       "\n",
       "#sk-container-id-1 div.sk-parallel-item:last-child::after {\n",
       "  align-self: flex-start;\n",
       "  width: 50%;\n",
       "}\n",
       "\n",
       "#sk-container-id-1 div.sk-parallel-item:only-child::after {\n",
       "  width: 0;\n",
       "}\n",
       "\n",
       "/* Serial-specific style estimator block */\n",
       "\n",
       "#sk-container-id-1 div.sk-serial {\n",
       "  display: flex;\n",
       "  flex-direction: column;\n",
       "  align-items: center;\n",
       "  background-color: var(--sklearn-color-background);\n",
       "  padding-right: 1em;\n",
       "  padding-left: 1em;\n",
       "}\n",
       "\n",
       "\n",
       "/* Toggleable style: style used for estimator/Pipeline/ColumnTransformer box that is\n",
       "clickable and can be expanded/collapsed.\n",
       "- Pipeline and ColumnTransformer use this feature and define the default style\n",
       "- Estimators will overwrite some part of the style using the `sk-estimator` class\n",
       "*/\n",
       "\n",
       "/* Pipeline and ColumnTransformer style (default) */\n",
       "\n",
       "#sk-container-id-1 div.sk-toggleable {\n",
       "  /* Default theme specific background. It is overwritten whether we have a\n",
       "  specific estimator or a Pipeline/ColumnTransformer */\n",
       "  background-color: var(--sklearn-color-background);\n",
       "}\n",
       "\n",
       "/* Toggleable label */\n",
       "#sk-container-id-1 label.sk-toggleable__label {\n",
       "  cursor: pointer;\n",
       "  display: block;\n",
       "  width: 100%;\n",
       "  margin-bottom: 0;\n",
       "  padding: 0.5em;\n",
       "  box-sizing: border-box;\n",
       "  text-align: center;\n",
       "}\n",
       "\n",
       "#sk-container-id-1 label.sk-toggleable__label-arrow:before {\n",
       "  /* Arrow on the left of the label */\n",
       "  content: \"▸\";\n",
       "  float: left;\n",
       "  margin-right: 0.25em;\n",
       "  color: var(--sklearn-color-icon);\n",
       "}\n",
       "\n",
       "#sk-container-id-1 label.sk-toggleable__label-arrow:hover:before {\n",
       "  color: var(--sklearn-color-text);\n",
       "}\n",
       "\n",
       "/* Toggleable content - dropdown */\n",
       "\n",
       "#sk-container-id-1 div.sk-toggleable__content {\n",
       "  max-height: 0;\n",
       "  max-width: 0;\n",
       "  overflow: hidden;\n",
       "  text-align: left;\n",
       "  /* unfitted */\n",
       "  background-color: var(--sklearn-color-unfitted-level-0);\n",
       "}\n",
       "\n",
       "#sk-container-id-1 div.sk-toggleable__content.fitted {\n",
       "  /* fitted */\n",
       "  background-color: var(--sklearn-color-fitted-level-0);\n",
       "}\n",
       "\n",
       "#sk-container-id-1 div.sk-toggleable__content pre {\n",
       "  margin: 0.2em;\n",
       "  border-radius: 0.25em;\n",
       "  color: var(--sklearn-color-text);\n",
       "  /* unfitted */\n",
       "  background-color: var(--sklearn-color-unfitted-level-0);\n",
       "}\n",
       "\n",
       "#sk-container-id-1 div.sk-toggleable__content.fitted pre {\n",
       "  /* unfitted */\n",
       "  background-color: var(--sklearn-color-fitted-level-0);\n",
       "}\n",
       "\n",
       "#sk-container-id-1 input.sk-toggleable__control:checked~div.sk-toggleable__content {\n",
       "  /* Expand drop-down */\n",
       "  max-height: 200px;\n",
       "  max-width: 100%;\n",
       "  overflow: auto;\n",
       "}\n",
       "\n",
       "#sk-container-id-1 input.sk-toggleable__control:checked~label.sk-toggleable__label-arrow:before {\n",
       "  content: \"▾\";\n",
       "}\n",
       "\n",
       "/* Pipeline/ColumnTransformer-specific style */\n",
       "\n",
       "#sk-container-id-1 div.sk-label input.sk-toggleable__control:checked~label.sk-toggleable__label {\n",
       "  color: var(--sklearn-color-text);\n",
       "  background-color: var(--sklearn-color-unfitted-level-2);\n",
       "}\n",
       "\n",
       "#sk-container-id-1 div.sk-label.fitted input.sk-toggleable__control:checked~label.sk-toggleable__label {\n",
       "  background-color: var(--sklearn-color-fitted-level-2);\n",
       "}\n",
       "\n",
       "/* Estimator-specific style */\n",
       "\n",
       "/* Colorize estimator box */\n",
       "#sk-container-id-1 div.sk-estimator input.sk-toggleable__control:checked~label.sk-toggleable__label {\n",
       "  /* unfitted */\n",
       "  background-color: var(--sklearn-color-unfitted-level-2);\n",
       "}\n",
       "\n",
       "#sk-container-id-1 div.sk-estimator.fitted input.sk-toggleable__control:checked~label.sk-toggleable__label {\n",
       "  /* fitted */\n",
       "  background-color: var(--sklearn-color-fitted-level-2);\n",
       "}\n",
       "\n",
       "#sk-container-id-1 div.sk-label label.sk-toggleable__label,\n",
       "#sk-container-id-1 div.sk-label label {\n",
       "  /* The background is the default theme color */\n",
       "  color: var(--sklearn-color-text-on-default-background);\n",
       "}\n",
       "\n",
       "/* On hover, darken the color of the background */\n",
       "#sk-container-id-1 div.sk-label:hover label.sk-toggleable__label {\n",
       "  color: var(--sklearn-color-text);\n",
       "  background-color: var(--sklearn-color-unfitted-level-2);\n",
       "}\n",
       "\n",
       "/* Label box, darken color on hover, fitted */\n",
       "#sk-container-id-1 div.sk-label.fitted:hover label.sk-toggleable__label.fitted {\n",
       "  color: var(--sklearn-color-text);\n",
       "  background-color: var(--sklearn-color-fitted-level-2);\n",
       "}\n",
       "\n",
       "/* Estimator label */\n",
       "\n",
       "#sk-container-id-1 div.sk-label label {\n",
       "  font-family: monospace;\n",
       "  font-weight: bold;\n",
       "  display: inline-block;\n",
       "  line-height: 1.2em;\n",
       "}\n",
       "\n",
       "#sk-container-id-1 div.sk-label-container {\n",
       "  text-align: center;\n",
       "}\n",
       "\n",
       "/* Estimator-specific */\n",
       "#sk-container-id-1 div.sk-estimator {\n",
       "  font-family: monospace;\n",
       "  border: 1px dotted var(--sklearn-color-border-box);\n",
       "  border-radius: 0.25em;\n",
       "  box-sizing: border-box;\n",
       "  margin-bottom: 0.5em;\n",
       "  /* unfitted */\n",
       "  background-color: var(--sklearn-color-unfitted-level-0);\n",
       "}\n",
       "\n",
       "#sk-container-id-1 div.sk-estimator.fitted {\n",
       "  /* fitted */\n",
       "  background-color: var(--sklearn-color-fitted-level-0);\n",
       "}\n",
       "\n",
       "/* on hover */\n",
       "#sk-container-id-1 div.sk-estimator:hover {\n",
       "  /* unfitted */\n",
       "  background-color: var(--sklearn-color-unfitted-level-2);\n",
       "}\n",
       "\n",
       "#sk-container-id-1 div.sk-estimator.fitted:hover {\n",
       "  /* fitted */\n",
       "  background-color: var(--sklearn-color-fitted-level-2);\n",
       "}\n",
       "\n",
       "/* Specification for estimator info (e.g. \"i\" and \"?\") */\n",
       "\n",
       "/* Common style for \"i\" and \"?\" */\n",
       "\n",
       ".sk-estimator-doc-link,\n",
       "a:link.sk-estimator-doc-link,\n",
       "a:visited.sk-estimator-doc-link {\n",
       "  float: right;\n",
       "  font-size: smaller;\n",
       "  line-height: 1em;\n",
       "  font-family: monospace;\n",
       "  background-color: var(--sklearn-color-background);\n",
       "  border-radius: 1em;\n",
       "  height: 1em;\n",
       "  width: 1em;\n",
       "  text-decoration: none !important;\n",
       "  margin-left: 1ex;\n",
       "  /* unfitted */\n",
       "  border: var(--sklearn-color-unfitted-level-1) 1pt solid;\n",
       "  color: var(--sklearn-color-unfitted-level-1);\n",
       "}\n",
       "\n",
       ".sk-estimator-doc-link.fitted,\n",
       "a:link.sk-estimator-doc-link.fitted,\n",
       "a:visited.sk-estimator-doc-link.fitted {\n",
       "  /* fitted */\n",
       "  border: var(--sklearn-color-fitted-level-1) 1pt solid;\n",
       "  color: var(--sklearn-color-fitted-level-1);\n",
       "}\n",
       "\n",
       "/* On hover */\n",
       "div.sk-estimator:hover .sk-estimator-doc-link:hover,\n",
       ".sk-estimator-doc-link:hover,\n",
       "div.sk-label-container:hover .sk-estimator-doc-link:hover,\n",
       ".sk-estimator-doc-link:hover {\n",
       "  /* unfitted */\n",
       "  background-color: var(--sklearn-color-unfitted-level-3);\n",
       "  color: var(--sklearn-color-background);\n",
       "  text-decoration: none;\n",
       "}\n",
       "\n",
       "div.sk-estimator.fitted:hover .sk-estimator-doc-link.fitted:hover,\n",
       ".sk-estimator-doc-link.fitted:hover,\n",
       "div.sk-label-container:hover .sk-estimator-doc-link.fitted:hover,\n",
       ".sk-estimator-doc-link.fitted:hover {\n",
       "  /* fitted */\n",
       "  background-color: var(--sklearn-color-fitted-level-3);\n",
       "  color: var(--sklearn-color-background);\n",
       "  text-decoration: none;\n",
       "}\n",
       "\n",
       "/* Span, style for the box shown on hovering the info icon */\n",
       ".sk-estimator-doc-link span {\n",
       "  display: none;\n",
       "  z-index: 9999;\n",
       "  position: relative;\n",
       "  font-weight: normal;\n",
       "  right: .2ex;\n",
       "  padding: .5ex;\n",
       "  margin: .5ex;\n",
       "  width: min-content;\n",
       "  min-width: 20ex;\n",
       "  max-width: 50ex;\n",
       "  color: var(--sklearn-color-text);\n",
       "  box-shadow: 2pt 2pt 4pt #999;\n",
       "  /* unfitted */\n",
       "  background: var(--sklearn-color-unfitted-level-0);\n",
       "  border: .5pt solid var(--sklearn-color-unfitted-level-3);\n",
       "}\n",
       "\n",
       ".sk-estimator-doc-link.fitted span {\n",
       "  /* fitted */\n",
       "  background: var(--sklearn-color-fitted-level-0);\n",
       "  border: var(--sklearn-color-fitted-level-3);\n",
       "}\n",
       "\n",
       ".sk-estimator-doc-link:hover span {\n",
       "  display: block;\n",
       "}\n",
       "\n",
       "/* \"?\"-specific style due to the `<a>` HTML tag */\n",
       "\n",
       "#sk-container-id-1 a.estimator_doc_link {\n",
       "  float: right;\n",
       "  font-size: 1rem;\n",
       "  line-height: 1em;\n",
       "  font-family: monospace;\n",
       "  background-color: var(--sklearn-color-background);\n",
       "  border-radius: 1rem;\n",
       "  height: 1rem;\n",
       "  width: 1rem;\n",
       "  text-decoration: none;\n",
       "  /* unfitted */\n",
       "  color: var(--sklearn-color-unfitted-level-1);\n",
       "  border: var(--sklearn-color-unfitted-level-1) 1pt solid;\n",
       "}\n",
       "\n",
       "#sk-container-id-1 a.estimator_doc_link.fitted {\n",
       "  /* fitted */\n",
       "  border: var(--sklearn-color-fitted-level-1) 1pt solid;\n",
       "  color: var(--sklearn-color-fitted-level-1);\n",
       "}\n",
       "\n",
       "/* On hover */\n",
       "#sk-container-id-1 a.estimator_doc_link:hover {\n",
       "  /* unfitted */\n",
       "  background-color: var(--sklearn-color-unfitted-level-3);\n",
       "  color: var(--sklearn-color-background);\n",
       "  text-decoration: none;\n",
       "}\n",
       "\n",
       "#sk-container-id-1 a.estimator_doc_link.fitted:hover {\n",
       "  /* fitted */\n",
       "  background-color: var(--sklearn-color-fitted-level-3);\n",
       "}\n",
       "</style><div id=\"sk-container-id-1\" class=\"sk-top-container\"><div class=\"sk-text-repr-fallback\"><pre>LinearRegression()</pre><b>In a Jupyter environment, please rerun this cell to show the HTML representation or trust the notebook. <br />On GitHub, the HTML representation is unable to render, please try loading this page with nbviewer.org.</b></div><div class=\"sk-container\" hidden><div class=\"sk-item\"><div class=\"sk-estimator fitted sk-toggleable\"><input class=\"sk-toggleable__control sk-hidden--visually\" id=\"sk-estimator-id-1\" type=\"checkbox\" checked><label for=\"sk-estimator-id-1\" class=\"sk-toggleable__label fitted sk-toggleable__label-arrow fitted\">&nbsp;&nbsp;LinearRegression<a class=\"sk-estimator-doc-link fitted\" rel=\"noreferrer\" target=\"_blank\" href=\"https://scikit-learn.org/1.5/modules/generated/sklearn.linear_model.LinearRegression.html\">?<span>Documentation for LinearRegression</span></a><span class=\"sk-estimator-doc-link fitted\">i<span>Fitted</span></span></label><div class=\"sk-toggleable__content fitted\"><pre>LinearRegression()</pre></div> </div></div></div></div>"
      ],
      "text/plain": [
       "LinearRegression()"
      ]
     },
     "execution_count": 37,
     "metadata": {},
     "output_type": "execute_result"
    }
   ],
   "source": [
    "model.fit(X, y)"
   ]
  },
  {
   "cell_type": "code",
   "execution_count": 38,
   "id": "13883ce6-0659-4e33-8acf-224ace6f2170",
   "metadata": {},
   "outputs": [
    {
     "data": {
      "text/plain": [
       "-0.146"
      ]
     },
     "execution_count": 38,
     "metadata": {},
     "output_type": "execute_result"
    }
   ],
   "source": [
    "model.coef_[0].round(3)"
   ]
  },
  {
   "cell_type": "code",
   "execution_count": 39,
   "id": "b63d3e91-9d07-4895-86a4-64b834317de8",
   "metadata": {},
   "outputs": [
    {
     "data": {
      "text/plain": [
       "40632.87"
      ]
     },
     "execution_count": 39,
     "metadata": {},
     "output_type": "execute_result"
    }
   ],
   "source": [
    "model.intercept_.round(3)"
   ]
  },
  {
   "cell_type": "markdown",
   "id": "f5185fe8-bfea-4d63-94bf-b07a27ce57ca",
   "metadata": {},
   "source": [
    "<p><strong>Prediction</strong></p>"
   ]
  },
  {
   "cell_type": "code",
   "execution_count": 40,
   "id": "cd403624-3731-40bb-82cc-6fc1bb63c86d",
   "metadata": {},
   "outputs": [
    {
     "name": "stderr",
     "output_type": "stream",
     "text": [
      "C:\\Users\\ajnur\\AppData\\Local\\Programs\\Python\\Python312\\Lib\\site-packages\\sklearn\\base.py:493: UserWarning: X does not have valid feature names, but LinearRegression was fitted with feature names\n",
      "  warnings.warn(\n"
     ]
    }
   ],
   "source": [
    "predicted_price = model.predict([[225000]])"
   ]
  },
  {
   "cell_type": "code",
   "execution_count": 41,
   "id": "f4217cd8-0add-48ab-92c6-8eb66e39bf28",
   "metadata": {},
   "outputs": [
    {
     "data": {
      "text/plain": [
       "7759.803184645862"
      ]
     },
     "execution_count": 41,
     "metadata": {},
     "output_type": "execute_result"
    }
   ],
   "source": [
    "predicted_price[0]"
   ]
  },
  {
   "cell_type": "markdown",
   "id": "e0874bc7-b595-471a-afe0-41b333683da7",
   "metadata": {},
   "source": [
    "<p><strong>Comparsion to our data</strong></p>"
   ]
  },
  {
   "cell_type": "code",
   "execution_count": 42,
   "id": "dc086ddb-34b4-4bbd-88d3-92207ce1d27f",
   "metadata": {},
   "outputs": [],
   "source": [
    "sample = df[df['mileage_in_km'] <= 250000]"
   ]
  },
  {
   "cell_type": "code",
   "execution_count": 43,
   "id": "f24f5883-828d-4091-809e-418024c88946",
   "metadata": {},
   "outputs": [],
   "source": [
    "sample = sample[sample['mileage_in_km'] >= 200000]"
   ]
  },
  {
   "cell_type": "code",
   "execution_count": 44,
   "id": "f30c1919-52d2-41c3-a75b-1fae50b494b7",
   "metadata": {},
   "outputs": [
    {
     "data": {
      "text/plain": [
       "7999.0"
      ]
     },
     "execution_count": 44,
     "metadata": {},
     "output_type": "execute_result"
    }
   ],
   "source": [
    "sample.price_in_euro.median()"
   ]
  },
  {
   "cell_type": "code",
   "execution_count": 45,
   "id": "eb266a63-d28f-4240-962f-e27ed230f275",
   "metadata": {},
   "outputs": [
    {
     "data": {
      "text/plain": [
       "7759.803184645862"
      ]
     },
     "execution_count": 45,
     "metadata": {},
     "output_type": "execute_result"
    }
   ],
   "source": [
    "predicted_price[0]"
   ]
  },
  {
   "cell_type": "code",
   "execution_count": 46,
   "id": "9bc732e0-14dc-46bb-ae24-62e448e301f3",
   "metadata": {},
   "outputs": [
    {
     "data": {
      "text/plain": [
       "239.19681535413838"
      ]
     },
     "execution_count": 46,
     "metadata": {},
     "output_type": "execute_result"
    }
   ],
   "source": [
    "sample.price_in_euro.median() - predicted_price[0]"
   ]
  },
  {
   "cell_type": "markdown",
   "id": "bcd38ccb-1bd8-4a30-9a34-6e1c7ff8ba06",
   "metadata": {},
   "source": [
    "<p><strong>Conclusion</strong></p>\n",
    "<p><strong>Slope : -0.146</strong> | This shows us that model predicted that the price goes down for ~-0.14 EUR for every kilometer. We generally believe that car should be better the less it is used, which reflects on the price.</p>\n",
    "<p><strong>Intercept : 40632.87</strong> | This values shows us if car had 0 mileage what the price should it be. I sadly did not have enough time to prove this one with data, but form a personal observations it is a pretty accurate prediction.</p>\n",
    "\n",
    "<p><strong>Personal test</strong> | I have used range of mileage that is close to the one which we predicted and when I took the median from that df, we have proven that we got a pretty close prediction. (239.19 EUR difference)</p>"
   ]
  },
  {
   "cell_type": "markdown",
   "id": "21049fd9-533d-4b61-bcdb-eab74b652cad",
   "metadata": {
    "jp-MarkdownHeadingCollapsed": true
   },
   "source": [
    "<h2>Export</h2>"
   ]
  },
  {
   "cell_type": "code",
   "execution_count": 47,
   "id": "0b42ffc4-cd90-4efb-a3cc-d4503cfe9e23",
   "metadata": {},
   "outputs": [],
   "source": [
    "#Converting Notebook to .py for word file"
   ]
  },
  {
   "cell_type": "code",
   "execution_count": 48,
   "id": "e5ecc432-9b1a-42e7-80d8-1e2f11ede182",
   "metadata": {},
   "outputs": [
    {
     "name": "stderr",
     "output_type": "stream",
     "text": [
      "[NbConvertApp] Converting notebook Ajnur_Bogucanin.ipynb to python\n",
      "[NbConvertApp] Writing 6036 bytes to Ajnur_Bogucanin.py\n"
     ]
    }
   ],
   "source": [
    "!jupyter nbconvert --to python Ajnur_Bogucanin.ipynb "
   ]
  }
 ],
 "metadata": {
  "kernelspec": {
   "display_name": "Python 3 (ipykernel)",
   "language": "python",
   "name": "python3"
  },
  "language_info": {
   "codemirror_mode": {
    "name": "ipython",
    "version": 3
   },
   "file_extension": ".py",
   "mimetype": "text/x-python",
   "name": "python",
   "nbconvert_exporter": "python",
   "pygments_lexer": "ipython3",
   "version": "3.12.2"
  }
 },
 "nbformat": 4,
 "nbformat_minor": 5
}
